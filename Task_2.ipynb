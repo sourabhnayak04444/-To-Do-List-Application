{
  "nbformat": 4,
  "nbformat_minor": 0,
  "metadata": {
    "colab": {
      "private_outputs": true,
      "provenance": [],
      "gpuType": "T4",
      "authorship_tag": "ABX9TyOOcuEYmwSjLimjS5F3aU9p",
      "include_colab_link": true
    },
    "kernelspec": {
      "name": "python3",
      "display_name": "Python 3"
    },
    "language_info": {
      "name": "python"
    },
    "accelerator": "GPU"
  },
  "cells": [
    {
      "cell_type": "markdown",
      "metadata": {
        "id": "view-in-github",
        "colab_type": "text"
      },
      "source": [
        "<a href=\"https://colab.research.google.com/github/sourabhnayak04444/-To-Do-List-Application/blob/main/Task_2.ipynb\" target=\"_parent\"><img src=\"https://colab.research.google.com/assets/colab-badge.svg\" alt=\"Open In Colab\"/></a>"
      ]
    },
    {
      "cell_type": "code",
      "execution_count": null,
      "metadata": {
        "id": "akiSddlbipuP"
      },
      "outputs": [],
      "source": [
        "\n",
        "import os\n",
        "TODO_FILE = \"todo.txt\"\n",
        "TASKS = []\n",
        "\n",
        "def load_tasks():\n",
        "    global TASKS\n",
        "    TASKS = []\n",
        "    if os.path.exists(TODO_FILE):\n",
        "        try:\n",
        "            with open(TODO_FILE, 'r') as file:\n",
        "                for line in file:\n",
        "                    task = line.strip()\n",
        "                    if task:\n",
        "                        TASKS.append(task)\n",
        "            print(f\"Tasks loaded successfully from {TODO_FILE}.\")\n",
        "        except Exception as e:\n",
        "            print(f\"Error loading tasks: {e}\")\n",
        "    else:\n",
        "        print(f\"No existing '{TODO_FILE}' file found. Starting with an empty list.\")\n",
        "\n",
        "def save_tasks():\n",
        "    try:\n",
        "        with open(TODO_FILE, 'w') as file:\n",
        "            for task in TASKS:\n",
        "                file.write(task + '\\n')\n",
        "    except Exception as e:\n",
        "        print(f\"Error saving tasks: {e}\")\n",
        "\n",
        "def view_tasks():\n",
        "    if not TASKS:\n",
        "        print(\"\\nYour To-Do List is empty! Time to add a task. \")\n",
        "        return\n",
        "\n",
        "    print(\"\\n--- Your To-Do List ---\")\n",
        "    for index, task in enumerate(TASKS, 1):\n",
        "        print(f\"{index}. {task}\")\n",
        "    print(\"------------------------\")\n",
        "\n",
        "def add_task(task_description):\n",
        "    if task_description.strip():\n",
        "        TASKS.append(task_description.strip())\n",
        "        print(f' Added task: \"{task_description.strip()}\"')\n",
        "        save_tasks()\n",
        "    else:\n",
        "        print(\" Task description cannot be empty.\")\n",
        "\n",
        "def remove_task(task_index):\n",
        "    try:\n",
        "        index_to_remove = int(task_index) - 1\n",
        "        if 0 <= index_to_remove < len(TASKS):\n",
        "            removed_task = TASKS.pop(index_to_remove)\n",
        "            print(f' Removed task: \"{removed_task}\"')\n",
        "            save_tasks()\n",
        "        else:\n",
        "            print(\" Invalid task number. Please check the list and try again.\")\n",
        "    except ValueError:\n",
        "        print(\" Invalid input. Please enter a number for the task you want to remove.\")\n",
        "    except Exception as e:\n",
        "        print(f\"An unexpected error occurred: {e}\")\n",
        "\n",
        "def main():\n",
        "    \"\"\"The main application loop that handles user interaction.\"\"\"\n",
        "    load_tasks()\n",
        "\n",
        "    while True:\n",
        "        \"\"\"print(\"\\n====== To-Do List Manager ======\")\"\"\"\n",
        "        print(\"1. View Tasks\")\n",
        "        print(\"2. Add Task\")\n",
        "        print(\"3. Remove Task\")\n",
        "        print(\"4. Exit\")\n",
        "        \"\"\"print(\"================================\")\"\"\"\n",
        "\n",
        "        choice = input(\"Enter your choice (1-4): \").strip()\n",
        "\n",
        "        if choice == '1':\n",
        "            view_tasks()\n",
        "\n",
        "        elif choice == '2':\n",
        "            new_task = input(\"Enter the new task: \")\n",
        "            add_task(new_task)\n",
        "\n",
        "        elif choice == '3':\n",
        "            view_tasks()\n",
        "            if TASKS:\n",
        "                task_num = input(\"Enter the number of the task to remove: \")\n",
        "                remove_task(task_num)\n",
        "\n",
        "        elif choice == '4':\n",
        "            print(\"\\nShutting down To-Do Manager. Goodbye!\")\n",
        "            break\n",
        "\n",
        "        else:\n",
        "            print(\" Invalid choice. Please enter a number between 1 and 4.\")\n",
        "if __name__ == \"__main__\":\n",
        "    main()"
      ]
    },
    {
      "cell_type": "code",
      "source": [],
      "metadata": {
        "id": "R4vJVb0ZiuvV"
      },
      "execution_count": null,
      "outputs": []
    }
  ]
}